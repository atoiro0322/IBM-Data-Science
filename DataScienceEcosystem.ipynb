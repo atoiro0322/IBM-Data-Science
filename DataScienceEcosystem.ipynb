{
 "cells": [
  {
   "cell_type": "markdown",
   "id": "199416fa-e4ad-4e97-b209-d7db836ea56a",
   "metadata": {},
   "source": [
    "# Data Science Tools and Ecosystem"
   ]
  },
  {
   "cell_type": "markdown",
   "id": "f4b2fc4a-b54d-45ef-aadf-b5a81288ccd7",
   "metadata": {},
   "source": [
    "In this notebook, Data Science Tools and Ecosystem are summarized."
   ]
  },
  {
   "cell_type": "markdown",
   "id": "782211ad-444e-4092-b509-c3bf4f683956",
   "metadata": {},
   "source": [
    "__Objectives__:\n",
    "- Create a new Jupyter noterbook and name it\n",
    "- List popular languages for Data Science\n",
    "- List popular libraries for Data Science\n",
    "- Make ordered list and unordered list"
   ]
  },
  {
   "cell_type": "markdown",
   "id": "70e6d604-fbea-4d15-abee-761cd302f0dd",
   "metadata": {},
   "source": [
    "Some of the popular laguages that Data Scientists use are:\n",
    "1. R\n",
    "2. Python\n",
    "3. Java\n",
    "4. SQL"
   ]
  },
  {
   "cell_type": "markdown",
   "id": "b625c207-86a3-4160-a167-ee20360c6df3",
   "metadata": {},
   "source": [
    "Some of the commonly used libraries used by Data Scientists include:\n",
    "1. plotly\n",
    "2. ggplot\n",
    "3. caret\n",
    "4. stringr"
   ]
  },
  {
   "cell_type": "markdown",
   "id": "4543a5da-077f-48cc-81cc-ff2e15de468e",
   "metadata": {},
   "source": [
    "| Data Science Tools |\n",
    "| ---- |\n",
    "| RStudio |\n",
    "| Jupyter Notebook |\n",
    "| Apache Zeppelin |\n"
   ]
  },
  {
   "cell_type": "markdown",
   "id": "6ed54e9f-836d-4f59-8a65-d1a96f302742",
   "metadata": {},
   "source": [
    "### Below are a few examples of evaluating arithmetic expressions in Python"
   ]
  },
  {
   "cell_type": "code",
   "execution_count": 4,
   "id": "ce59b560-c176-407c-b6e5-828a5c14a2ac",
   "metadata": {},
   "outputs": [
    {
     "data": {
      "text/plain": [
       "17"
      ]
     },
     "execution_count": 4,
     "metadata": {},
     "output_type": "execute_result"
    }
   ],
   "source": [
    "# This is a simple arithmetic expression to multiply then add integers\n",
    "(3*4)+5"
   ]
  },
  {
   "cell_type": "code",
   "execution_count": 7,
   "id": "0f90989c-b3ed-48cd-9d16-8f4cd7dee81f",
   "metadata": {},
   "outputs": [
    {
     "data": {
      "text/plain": [
       "3.3333333333333335"
      ]
     },
     "execution_count": 7,
     "metadata": {},
     "output_type": "execute_result"
    }
   ],
   "source": [
    "# This will convert 200 minutes to hours by deving by 60\n",
    "200 / 60"
   ]
  },
  {
   "cell_type": "markdown",
   "id": "a400e6c8-9bb7-48b4-8e21-a1afe01e6823",
   "metadata": {},
   "source": [
    "## Author\n",
    "Rio"
   ]
  },
  {
   "cell_type": "code",
   "execution_count": null,
   "id": "f4911ce7-ccfc-4881-854f-cafb4cf1bfde",
   "metadata": {},
   "outputs": [],
   "source": []
  }
 ],
 "metadata": {
  "kernelspec": {
   "display_name": "Python 3 (ipykernel)",
   "language": "python",
   "name": "python3"
  },
  "language_info": {
   "codemirror_mode": {
    "name": "ipython",
    "version": 3
   },
   "file_extension": ".py",
   "mimetype": "text/x-python",
   "name": "python",
   "nbconvert_exporter": "python",
   "pygments_lexer": "ipython3",
   "version": "3.12.8"
  }
 },
 "nbformat": 4,
 "nbformat_minor": 5
}
